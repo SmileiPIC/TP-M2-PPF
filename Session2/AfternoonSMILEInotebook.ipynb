{
 "cells": [
  {
   "cell_type": "markdown",
   "metadata": {},
   "source": [
    "# Intense laser-plasma interaction for particle acceleration"
   ]
  },
  {
   "cell_type": "markdown",
   "metadata": {},
   "source": [
    "## Introduction"
   ]
  },
  {
   "cell_type": "markdown",
   "metadata": {},
   "source": [
    "The development in the last decades of laser technologies (in particular Chirped Pulse Amplification which was awarded the Nobel Prize in Physics in 2018) opened the way for several research activities by providing compact sources of intense, high power, ultra short laser pulses. \n",
    "In the intense laser fields both electrons and ions can be efficiently accelerated, and this has attracted an impressive attention, not only for fundamental research but also for potential applications, from hadrontherapy to radiography to Inertial Confinement Fusion. \n",
    "Indeed a plasma-based accelerator may overcome many of the fundamental limitations of the other accelerator structures, such as ionization or breakdown, and it should provide high-performance in a much smaller size.\n"
   ]
  },
  {
   "cell_type": "markdown",
   "metadata": {},
   "source": [
    "In this project we will mostly focus on two acceleration schemes, one for the electrons and one for the ions. You will discover the physics behind these two mechanisms by analysing the simulations.\n",
    "\n",
    "Here are some references of recent research activities on these subjects, that you may find of interest to understand in more details the theory behind them and current experimental research efforts: \n",
    "\n",
    "(i) For ion acceleration [1,2,3],\n",
    "\n",
    "(ii) For electron acceleration [4,5,6]."
   ]
  },
  {
   "cell_type": "markdown",
   "metadata": {},
   "source": [
    "Note that this is in no way a complete overview of the many acceleration schemes under investigation in the laser-plasma community, of which you can find reviews as [7,8] and we can certainly discuss more!"
   ]
  },
  {
   "cell_type": "markdown",
   "metadata": {},
   "source": [
    "$\\bf REFERENCE : $ \n",
    "\n",
    "[1] Schlegel et al. Physics of Plasmas, 16(8):083103, (2009).\n",
    "\n",
    "[2] Robinson et al. Plasma Physics and Controlled Fusion, 51(2):024004, (2009).\n",
    "\n",
    "[3] Macchi et al. Phys. Rev. Lett., 94:165003, (2005).\n",
    "\n",
    "[4] Mangles et al.; Geddes et al.; Faure et al.; Nature 431, (2004).\n",
    "\n",
    "[5] Gonsalves et al. Phys. Rev. Lett., 112:084801, (2019).\n",
    "\n",
    "[6] Albert et al. Plasma Physics and Controlled Fusion, 56:084015 (2014). \n",
    "\n",
    "[7] Macchi, Borghesi and Passoni. Rev. Mod. Phys. 85, 751, (2013). \n",
    "\n",
    "[8] Esarey, Schroeder and Leemans. Rev. Mod. Phys. 81, 1229, (2009). \n"
   ]
  },
  {
   "cell_type": "markdown",
   "metadata": {},
   "source": [
    "### Important quantities"
   ]
  },
  {
   "cell_type": "markdown",
   "metadata": {},
   "source": [
    "Here is a short reminder of some important physical quantities that characterize the regime of laser-plasma interaction of interest for this project. \n",
    "\n",
    "The dimensionless value of the laser electric field $E_L$ (also called dimensionless vector potential) is defined as $a_0 = eE_L/(m_ec\\omega_L)$ where $\\omega_L=2\\pi/t_L$ is the laser frequency and $t_L$ the laser period. \n",
    "\n",
    "We talk about intense (or relativistic) laser-plasma interaction regime for $a_0\\gtrsim 1$."
   ]
  },
  {
   "cell_type": "markdown",
   "metadata": {},
   "source": [
    "${\\bf Question\\, 1-}$ Can you infer why by expressing the momentum/energy evolution of an electron in a field of this amplitude?"
   ]
  },
  {
   "cell_type": "markdown",
   "metadata": {},
   "source": [
    "To relate this value to the laser characteristics, we can exploit the following relation\n",
    "$$a_0 = 0.85\\sqrt{\\frac{I\\lambda_L^2}{10^{18}\\rm Wcm^{-2}\\mu m^{2}}}\\, ,$$\n",
    "where the laser intensity is defined as the cycle-averaged value of the Poynting vector modulus. "
   ]
  },
  {
   "cell_type": "markdown",
   "metadata": {},
   "source": [
    "${\\bf Question \\, 2-}$ Knowing that typical laser has wavelength $\\lambda_L=1\\rm \\mu m$ and can illuminate a region of radius $\\simeq 10\\rm \\mu m$, what is the total power delivered by the laser system and how does it compare with a common laser pointer ? "
   ]
  },
  {
   "cell_type": "markdown",
   "metadata": {},
   "source": [
    "Note that current laser systems can reach the regime of PW =$10^{15}$W."
   ]
  },
  {
   "cell_type": "markdown",
   "metadata": {},
   "source": [
    "In order to describe the interaction of an intense laser pulse with a gas or a solid, we need to define the density that corresponds, for an electromagnetic wave with angular frequency $\\omega_L$, to the maximum electron electron density of a transparent plasma, and beyond which the opaque plasma would fully reflect the incident electromagnetic wave. This is called ${\\it critical\\, density}$ and was discussed in Project 1 this morning. Go back to it, to check how to initialize in the normalized units of the code an ${\\it overdense}$ or ${\\it underdense}$ plasma. "
   ]
  },
  {
   "cell_type": "markdown",
   "metadata": {},
   "source": [
    "\n",
    "${\\bf Question\\, 3-}$ Write down the dispersion relation of an electromagnetic wave in a plasma. How do you recover this density? Compute the corresponding densities for a micrometric-wavelength plasma, as well as for a radiowave with frequency 10 MHz. How do they compare? What typical plasmas have such densities?"
   ]
  },
  {
   "cell_type": "markdown",
   "metadata": {},
   "source": [
    "## Radiation pressure acceleration"
   ]
  },
  {
   "cell_type": "markdown",
   "metadata": {},
   "source": [
    "Look at the input deck in which both laser and plasma are initialized.\n"
   ]
  },
  {
   "cell_type": "markdown",
   "metadata": {},
   "source": [
    "${\\bf 1.}$ Describe the initial conditions of the interaction, for both the plasma and the laser. \n",
    "Look on the SMILEI website (https://smileipic.github.io/Smilei/namelist.html) to understand the meaning of the various parameters of interest. "
   ]
  },
  {
   "cell_type": "markdown",
   "metadata": {},
   "source": [
    "${\\bf 2.}$ All diagnostics have been commented out. Select a set of diagnostics that you think are more appropriate to have a first idea of what is happening during the interaction, considering that if you put too many the code will slow down substantially.  \n"
   ]
  },
  {
   "cell_type": "markdown",
   "metadata": {},
   "source": [
    "${\\bf 3.}$ Run the code and discuss qualitatively what is happening. \n"
   ]
  },
  {
   "cell_type": "markdown",
   "metadata": {},
   "source": [
    "${\\bf 4.}$ Extract the velocity of the laser-plasma interaction surface. \n"
   ]
  },
  {
   "cell_type": "markdown",
   "metadata": {},
   "source": [
    "${\\bf 5.}$ Look at the particle phase space x-px and identify the accelerated particles. How does the particle momentum relate to the surface velocity ? Which field is accelerating? \n",
    "What can produce this type of field ?\n",
    "\n"
   ]
  },
  {
   "cell_type": "markdown",
   "metadata": {},
   "source": [
    "${\\bf 6.}$ Extract the efficiency of the acceleration at a fixed time. \n"
   ]
  },
  {
   "cell_type": "markdown",
   "metadata": {},
   "source": [
    "${\\bf 7.}$ Explore the scaling of the velocity with $a_0$.\n",
    "With the help of Ref.[1-3], can you compare the surface velocity (called Hole Boring velocity) with the theory ? \n"
   ]
  },
  {
   "cell_type": "markdown",
   "metadata": {},
   "source": [
    "${\\bf 8.}$ Use now a thin target, with thickness smaller than a laser wavelength for instance $0.2\\lambda_L$. Is the system evolving differently? How is this affecting particle acceleration ? (if you are interested look into Sec.IV.A.2 in Ref.[7]) \n"
   ]
  },
  {
   "cell_type": "markdown",
   "metadata": {},
   "source": [
    "\n",
    "${\\bf 9.}$ Change the polarization of the laser and go back to a thick target. Compute again hole boring velocity. Why is it different ? Where is most of the laser energy gone ?\n"
   ]
  },
  {
   "cell_type": "markdown",
   "metadata": {},
   "source": [
    "\n",
    "${\\bf 10.}$ The equation for the hole boring velocity used before assumed a perfect laser reflection. Can you extract the reflection coefficient of the laser from your measures ? (you can check Ref.[1] and Ref.[7] Sec.IV.A.1)\n"
   ]
  },
  {
   "cell_type": "markdown",
   "metadata": {},
   "source": [
    "\n",
    "${\\bf 11.}$ How is this affecting particle acceleration ? Is this more or less efficient ? (if you are interested look into Sec.IV.B and Sec.III in Ref.[7]).  \n"
   ]
  },
  {
   "cell_type": "code",
   "execution_count": null,
   "metadata": {},
   "outputs": [],
   "source": []
  },
  {
   "cell_type": "markdown",
   "metadata": {},
   "source": [
    "## Laser Wakefield Acceleration  "
   ]
  },
  {
   "cell_type": "markdown",
   "metadata": {},
   "source": [
    "We will now investigate the case of a laser propagating into an underdense target, as initialized in the second input that you have. \n"
   ]
  },
  {
   "cell_type": "markdown",
   "metadata": {},
   "source": [
    "\n",
    "The laser during its propagation will again push the plasma (and in particular the electrons as they are the lighter species), with a force which is proportional to $\\propto \\nabla E_L^2$. \n",
    "In order to efficiently perturb the plasma (i.e. produce waves in the laser wake), the optimal condition will be given by a resonance of the laser perturbation with the plasma frequency. \n",
    "\n",
    "${\\bf 1.}$ Can you compute what is the optimal length of a gaussian laser pulse for a plasma with density $n= n_{cr}/16$ ? \n"
   ]
  },
  {
   "cell_type": "markdown",
   "metadata": {},
   "source": [
    "Use these values for density and laser pulse duration and profile, to run the simulation. Start with a low intensity laser $a_0 = 0.1$ and look at the laser-plasma interaction. \n",
    "\n",
    "${\\bf 2.}$  Describe which kind of waves you observe in the simulation and compute their propagation velocity. Note that this should be equal to the group velocity of the laser pulse propagating in the plasma. \n",
    "\n"
   ]
  },
  {
   "cell_type": "markdown",
   "metadata": {},
   "source": [
    "\n",
    "${\\bf 3.}$  Specify if you are in a linear or non-linear regime, and which parameters you used to verify that.\n",
    "Could you estimate the maximum electrostatic field that could be excited ? \n",
    "\n"
   ]
  },
  {
   "cell_type": "markdown",
   "metadata": {},
   "source": [
    "\n",
    "${\\bf 4.}$  Now slowly increase the laser intensity to observe the non-linear evolution of the waves. \n"
   ]
  },
  {
   "cell_type": "markdown",
   "metadata": {},
   "source": [
    "\n",
    "${\\bf 5.}$  Keep increasing up to relativistic intensity (for instance up to $a_0=2$), and look at the particle phase space x-px. \n",
    "Can you identify any accelerated particle? Do you see when this acceleration stop to be effective ? \n",
    "\n"
   ]
  },
  {
   "cell_type": "markdown",
   "metadata": {},
   "source": [
    "\n",
    "${\\bf 6.}$  Estimate for how long these particles will remain in the accelerating part of the wave, i.e. when they will stop accelerating, which is one of the major limitation of this acceleration scheme. \n",
    "Remember that the wave is propagating at the velocity that you computed at point 2).\n"
   ]
  },
  {
   "cell_type": "markdown",
   "metadata": {},
   "source": [
    "${\\bf 7.}$  Check and discuss what happens with an initial electron temperature $T_e=0.05m_ec^2$ instead of the cold plasma used up to now. \n"
   ]
  },
  {
   "cell_type": "code",
   "execution_count": null,
   "metadata": {},
   "outputs": [],
   "source": []
  }
 ],
 "metadata": {
  "kernelspec": {
   "display_name": "Python 3",
   "language": "python",
   "name": "python3"
  },
  "language_info": {
   "codemirror_mode": {
    "name": "ipython",
    "version": 3
   },
   "file_extension": ".py",
   "mimetype": "text/x-python",
   "name": "python",
   "nbconvert_exporter": "python",
   "pygments_lexer": "ipython3",
   "version": "3.8.6"
  }
 },
 "nbformat": 4,
 "nbformat_minor": 2
}
