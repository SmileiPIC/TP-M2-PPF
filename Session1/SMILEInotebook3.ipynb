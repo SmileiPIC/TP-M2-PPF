{
 "cells": [
  {
   "cell_type": "markdown",
   "metadata": {},
   "source": [
    "# A practical introduction to the kinetic simulation of plasmas"
   ]
  },
  {
   "cell_type": "markdown",
   "metadata": {},
   "source": [
    "## Project 3"
   ]
  },
  {
   "cell_type": "markdown",
   "metadata": {},
   "source": [
    "### Simulation set-up"
   ]
  },
  {
   "cell_type": "markdown",
   "metadata": {},
   "source": [
    "In this project, we will investigate the temporal evolution of a (small amplitude) Langmuir wave propagating into a plasma with density $n_0$, temperature $T_0 = 10^{-4} m_e c^2$ and immobile ions. \n",
    "The Langmuir wave is initialized by prescribing a perturbation on the electron density and average velocity profiles.\n",
    "The wavevector of the seeded Langmuir wave is defined by the parameter $\\texttt{klde}$ which denotes $k\\,\\lambda_{De}$ \n",
    "with $\\lambda_{De}=\\sqrt{\\epsilon_0 T_0/(e^2 n_0)}$.\n",
    "You can check this in the input file $\\texttt{project3.py}$."
   ]
  },
  {
   "cell_type": "markdown",
   "metadata": {},
   "source": [
    "$\\bf 3.a -$ What is the expression for the Debye length in normalized units ( remember we normalize times to the \n",
    "inverse of the electron plasma frequency $\\omega_{pe}^{-1}$ )?"
   ]
  },
  {
   "cell_type": "markdown",
   "metadata": {},
   "source": [
    "$\\bf 3.b -$ Do you know why we have introduced the velocity perturbation as $v_x(t=0,x) = \\omega n_e(t=0,x)/k$?\n"
   ]
  },
  {
   "cell_type": "markdown",
   "metadata": {},
   "source": [
    "### First run"
   ]
  },
  {
   "cell_type": "markdown",
   "metadata": {},
   "source": [
    "Run the first simulation using $\\texttt{klde=0.1}$, i.e. using $k\\lambda_{de}=0.1$.\n"
   ]
  },
  {
   "cell_type": "markdown",
   "metadata": {},
   "source": [
    "$\\bf 3.c -$ Plot the electrostatic field $E_x$ and electron charge density $\\rho$ and look at their time evolution.\n",
    "What do you observe? Can you extract the phase-velocity of the Langmuir wave?\n",
    "How does it compare to the thermal velocity $v_{th} = \\sqrt{T_0/m_e} = 0.01\\,c$?\n",
    "How does it compare with the theory? "
   ]
  },
  {
   "cell_type": "markdown",
   "metadata": {},
   "source": [
    "$\\bf 3.d -$ What in the input file allows to define a wave propagating in the forward (positive $x$) direction?\n",
    "What would have happened if one had taken $v_x(t=0,x) = 0$?\n",
    "How could one have injected a wave propagating in the other direction?\n"
   ]
  },
  {
   "cell_type": "markdown",
   "metadata": {},
   "source": [
    "$\\bf 3.e -$ Have a look at the energy in the electrostatic field $E_x$. How does it evolve?\n",
    "Can you extract the wave frequency? How does it compare with the theory?\n"
   ]
  },
  {
   "cell_type": "markdown",
   "metadata": {},
   "source": [
    "### Additional runs varying $k \\lambda_{De}$"
   ]
  },
  {
   "cell_type": "markdown",
   "metadata": {},
   "source": [
    "Now, we will run the same simulation slowly increasing $k \\lambda_{De}$.\n",
    "For the next runs, use $\\texttt{klde=0.2}$, $\\texttt{klde=0.3}$ and $\\texttt{klde=0.4}$.\n"
   ]
  },
  {
   "cell_type": "markdown",
   "metadata": {},
   "source": [
    "$\\bf 3.f -$ For each of these simulations, plot the energy in the electrostatic $E_x$ field, the electrostatic field $E_x$,\n",
    "charge density $\\rho$, velocity distribution ($v_x$ phase space) and $x-v_x$ phase-space distribution.\n"
   ]
  },
  {
   "cell_type": "markdown",
   "metadata": {},
   "source": [
    "$\\bf 3.g -$ For each case, extract the wave frequency and phase-velocity.\n",
    "Compare the wave velocity with the thermal one. \n",
    "Also extract, if observed, the damping rate of the wave. Compare your numerical results to the theoretical predictions."
   ]
  },
  {
   "cell_type": "markdown",
   "metadata": {},
   "source": [
    "### Physical interpretation\n"
   ]
  },
  {
   "cell_type": "markdown",
   "metadata": {},
   "source": [
    "$\\bf 3.h -$ From the discussion in the $\\it supplemental\\, material$ and by observing in more details the phase-space distribution, can you infer what is responsible for the damping of the Langmuir wave?\n"
   ]
  },
  {
   "cell_type": "code",
   "execution_count": null,
   "metadata": {},
   "outputs": [],
   "source": []
  },
  {
   "cell_type": "code",
   "execution_count": null,
   "metadata": {},
   "outputs": [],
   "source": []
  }
 ],
 "metadata": {
  "kernelspec": {
   "display_name": "Python 3",
   "language": "python",
   "name": "python3"
  },
  "language_info": {
   "codemirror_mode": {
    "name": "ipython",
    "version": 3
   },
   "file_extension": ".py",
   "mimetype": "text/x-python",
   "name": "python",
   "nbconvert_exporter": "python",
   "pygments_lexer": "ipython3",
   "version": "3.8.6"
  }
 },
 "nbformat": 4,
 "nbformat_minor": 2
}
