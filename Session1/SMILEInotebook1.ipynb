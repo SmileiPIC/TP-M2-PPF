{
 "cells": [
  {
   "cell_type": "markdown",
   "metadata": {},
   "source": [
    "# A practical introduction to the kinetic simulation of plasmas"
   ]
  },
  {
   "cell_type": "markdown",
   "metadata": {},
   "source": [
    "## Introduction"
   ]
  },
  {
   "cell_type": "markdown",
   "metadata": {},
   "source": [
    "This practical is an introduction to the kinetic simulation of plasmas.\n",
    "Throughout this work, you will use the open-source Particle-In-Cell (PIC) code SMILEI Ref.[1] to address various physical mechanisms that have a particular importance in plasma physics.\n",
    "\n",
    "The practical for this morning is structured in $\\bf 4\\, projects$: \n",
    "- the first two projects focus on plasma instabilities driven by counter-streaming cold (electron) plasmas. \n",
    "The modelling of both processes, in the case of cold plasmas, can be performed in the framework of a cold relativistic fluid model.\n",
    "Details on this modelling are given in the pdf file of the $\\it supplemental$ $\\it material$. \n",
    "- the two last projects will focus on purely kinetic processes, as they\n",
    "can be only accounted for in the framework of the kinetic theory of plasmas. \n",
    "These two processes will be related to the kinetic behaviour of Langmuir waves (a.k.a. electron plasma waves). \n",
    "\n",
    "$\\bf Nota bene -$ You may find this introduction quite evasive. This is done on purpose! \n",
    "Indeed, we wish you discover by yourself, running and analysing the simulations, what physical processes are at play in the different projects.\n",
    "Hence, as you will see, all 4 projects have no title and it will be up to you to give them one.\n",
    "\n",
    "$\\bf REFERENCE : $ \n",
    "\n",
    "[1] J.  Derouillat,  A.  Beck,  F.  Perez,  T.  Vinci,  M.  Chiaramello,  A.  Grassi,  M.  Fle,  G.  Bouchard, I. Plotnikov, N. Aunai, J. Dargent, C. Riconda and M. Grech. SMILEI: a collaborative, open-source, multi-purpose  particle-in-cell  code  for  plasma  simulation. Computer  Physics  Communications,222:351 – 373, 2018."
   ]
  },
  {
   "cell_type": "markdown",
   "metadata": {},
   "source": [
    "### A quick word on SMILEI"
   ]
  },
  {
   "cell_type": "markdown",
   "metadata": {},
   "source": [
    "As previously stated, the numerical tool you will use for this practical is the PIC code SMILEI.\n",
    "It is an open-source and collaborative code freely distributed under a CeCILL-B license (equivalent to the GPL license for free-softwares).\n",
    "The code, its documentation and post-processing tools are freely available on SMILEI's website hosted on GitHub: https://smileipic.github.io/Smilei/index.html.\n",
    "\n",
    "The focus of this practical is on the physics of plasmas, not on how to use SMILEI. Hence, a prior knowledge of SMILEI is not mandatory. Yet, checking SMILEI's website for information on how to write a $\\it namelist$ can be useful. \n",
    "Furthermore, the interested reader can find additional tutorials accessible on the website, which focus on other physical processes and/or on how to use SMILEI.\n",
    "\n",
    "Last, all simulations presented in this practical will be run in 1D3V geometry in order to run in a short time over a single CPU. 1D3V means that only one dimension in space is considered, but particles move in a three-dimensional velocity space (that is the particle velocity is a three-dimensional vector).\n",
    "This is mandatory to address electromagnetic problems. Note however that the version of SMILEI you have is the full research code (not a downgraded version!), hence, it can address more complex problems in higher dimensions."
   ]
  },
  {
   "cell_type": "markdown",
   "metadata": {},
   "source": [
    "### Normalizations"
   ]
  },
  {
   "cell_type": "markdown",
   "metadata": {},
   "source": [
    "SMILEI is an electromagnetic PIC code, that is, it solves the Maxwell-Vlasov system of equations that describes the evolution of various species of a collisionless plasma in the self-consistent electromagnetic fields. When dealing with this system of equations, it is convenient to introduce the normalizations given in Table 1.\n",
    "In this work, all quantities given to the code, \n",
    "as well as all quantities provided by the code as outputs, will be in normalized units.\n"
   ]
  },
  {
   "cell_type": "markdown",
   "metadata": {},
   "source": [
    "<img src=\"FigureNormalizations.png\" style=\"height:400px\">  "
   ]
  },
  {
   "cell_type": "markdown",
   "metadata": {},
   "source": [
    "As shown in Table 1, all charges and mass will be normalized to the elementary charge $e$ and electron mass $m_e$, respectively.\n",
    "Furthermore, all velocities will be normalized to the speed of light in vacuum $c$ that naturally appears from Maxwell's equations.\n",
    "Now, the unit of time - here defined as $\\omega_r^{-1}$, with $\\omega_r$ the reference angular frequency - is not defined a priori, and is chosen by the user.\n",
    "Once this unit of time is chosen, all other units are uniquely defined and follow as detailed in Table 1.\n",
    "Note however that number densities associated to the plasma species are not in units of $(\\omega_r/c)^3$ but in units of $n_r = \\epsilon_0\\,m_e\\,\\omega_r^2/e^2$.\n"
   ]
  },
  {
   "cell_type": "markdown",
   "metadata": {},
   "source": [
    "$\\bf Exercise\\, : $ \n",
    "In this work, we will consider plasmas with a well-defined average density $n_0$.\n",
    "In that case, it is convenient to normalise times to the $\\it electron\\,plasma\\, frequency$ at this density $\\omega_{p0}^2 = e^2 n_0/(\\epsilon_0 m_e)$. What will be the units of length, density, electric and magnetic fields?\n"
   ]
  },
  {
   "cell_type": "code",
   "execution_count": null,
   "metadata": {},
   "outputs": [],
   "source": []
  },
  {
   "cell_type": "markdown",
   "metadata": {},
   "source": [
    "$\\bf Optional\\, question\\,  :$ If one considered the interaction of an electromagnetic wave with angular frequency $\\omega_0$ with a plasma with density $n_0$, one may use $\\omega_0$ as reference angular frequency. In that case, what would be the reference density $n_r$? What does it correspond to? "
   ]
  },
  {
   "cell_type": "code",
   "execution_count": null,
   "metadata": {},
   "outputs": [],
   "source": []
  },
  {
   "cell_type": "markdown",
   "metadata": {},
   "source": [
    "## Project 1"
   ]
  },
  {
   "cell_type": "markdown",
   "metadata": {},
   "source": [
    "### Simulation set-up"
   ]
  },
  {
   "cell_type": "markdown",
   "metadata": {},
   "source": [
    "We here consider a plasma with density $n_0$ made of immobile ions, and two counter-streaming electron flows, each with density $n_0/2$ and opposite velocities $\\pm v_0\\,{\\bf \\hat{x}}$, with ${\\bf \\hat{x}}$ the direction resolved in this 1D simulation (we remind you that throughout this work, we will consider 1D3V simulations with a single dimension in space, but particle velocities having all three components).\n",
    "\n"
   ]
  },
  {
   "cell_type": "markdown",
   "metadata": {},
   "source": [
    "All the information about the simulation are given in the input file $\\texttt{project1.py}$.\n",
    "SMILEI input files are written in Python.\n",
    "You can define as many parameters as you want, then feed SMILEI's input blocks such as the $\\texttt{Main()}$ or $\\texttt{Species()}$ blocks.\n",
    "\n",
    "\n"
   ]
  },
  {
   "cell_type": "markdown",
   "metadata": {},
   "source": [
    "${\\bf 1.a -}$ Open $\\texttt{project1.py}$.\n",
    "Start by choosing $\\texttt{grid_length=1.68}$, which defines the simulation grid length to $1.68 c/\\omega_{pe}$.\n",
    "Have a look at the $\\texttt{Species()}$ blocks for both $\\texttt{electron1}$ and $\\texttt{electron2}$.\n",
    "What does setting $\\texttt{grid_length=1.68}$ mean in terms of the initial simulation set-up?"
   ]
  },
  {
   "cell_type": "code",
   "execution_count": null,
   "metadata": {},
   "outputs": [],
   "source": []
  },
  {
   "cell_type": "markdown",
   "metadata": {},
   "source": [
    "### First run"
   ]
  },
  {
   "cell_type": "markdown",
   "metadata": {},
   "source": [
    "Now, we prepare to run the simulation.\n",
    "\n",
    "Using the virtual machine, you just need to open a terminal, go to the folder of the Project1 and run the command $\\texttt{mpirun ~/Smilei/smilei project1}$.\n",
    "This will launch the code and produce the output file in the directory Project1.\n",
    "\n",
    "Once the code has run, you need to analyse the data.\n",
    "Remember that all quantities are in normalized units!"
   ]
  },
  {
   "cell_type": "markdown",
   "metadata": {},
   "source": [
    "$\\bf 1.b -$ First check the $E_x$ and $\\rho$ (charge density) fields at time $t=0$.\n",
    "\n",
    "Are they what you expect them to be? Where does $E_x$ comes from (note that we do not specify any $E_x$ field at time $t=0$)?\n",
    "\n",
    "Check the energy in the different electromagnetic fields (given as a function of time), \n",
    "e.g. $\\texttt{Uelm_Ex}$ denotes the total energy in the $E_x$-component of the electric field.\n",
    "\n",
    "In which field is the energy stored? For this field, how is the energy evolving with time?\n",
    "What does this mean: is this set-up stable or does it lead to an instability?\n",
    "Where does the energy in the electric field comes from?"
   ]
  },
  {
   "cell_type": "markdown",
   "metadata": {},
   "source": [
    "$\\bf 1.c -$ Knowing which energy is growing, what is the nature of the physics at play?\n",
    "Checking the $\\it supplemental\\, material$, can you give a name to what you are observing?\n",
    "\n",
    "$\\it Additional\\, question$  : In the $\\it supplemental\\, material$, this instability was described coupling (cold) fluid equations with Maxwell's equations.\n",
    "Could we have used a different set of equations to describe the instability?"
   ]
  },
  {
   "cell_type": "markdown",
   "metadata": {},
   "source": [
    "$\\bf 1.d -$ Add to your visualisation the diagnostics on the electric field $E_x$ and the $x-v_x$ phase-space diagnostics.\n",
    "Have a look at what is going on in your simulation as a function of time.\n",
    "Can you identify the linear and non-linear stage of the instability?"
   ]
  },
  {
   "cell_type": "markdown",
   "metadata": {},
   "source": [
    "$\\bf 1.e -$ In the linear stage of the instability, can you extract the growth rate of the instability?\n",
    "How does it compare to the theory?"
   ]
  },
  {
   "cell_type": "markdown",
   "metadata": {},
   "source": [
    "$\\bf 1.f -$ Now, checking the $x-v_x$ phase-space at the moment of saturation (end of the linear stage),\n",
    "can you infer what leads to the saturation of this instability?"
   ]
  },
  {
   "cell_type": "markdown",
   "metadata": {},
   "source": [
    "### Additional runs varying the seeded wavenumber"
   ]
  },
  {
   "cell_type": "markdown",
   "metadata": {},
   "source": [
    "We will now rerun the same simulation set-up but changing the $\\texttt{grid_length}$ parameter, that is changing the wavenumber $k$ of the seeded mode."
   ]
  },
  {
   "cell_type": "markdown",
   "metadata": {},
   "source": [
    "$\\bf 1.g -$ Run the simulation with $\\texttt{grid_length=1.03}$. What growth rate do you get for the instability? How does it compare with the theory?\n",
    "\n",
    "Do the same setting  $\\texttt{grid_length=0.69}$. Has the physics change in the last 3 runs? \n"
   ]
  },
  {
   "cell_type": "markdown",
   "metadata": {},
   "source": [
    "$\\bf 1.h -$ Run the simulation with $\\texttt{grid_length=0.62}$. \n",
    "What has changed? Can you compare your simulation results with the theory?\n",
    "\n",
    "What are now the physical quantities that can be extracted from the simulation and compared to the theory?\n",
    "\n",
    "Continue decreasing the seeded wavelength, using $\\texttt{grid_length=0.31}$ then $\\texttt{grid_length=0.16}$\n",
    "and checking the code predictions with the theory presented in the $\\it supplemental\\, material$.\n",
    "\n"
   ]
  },
  {
   "cell_type": "markdown",
   "metadata": {},
   "source": [
    "### Physical interpretation"
   ]
  },
  {
   "cell_type": "markdown",
   "metadata": {},
   "source": [
    "$\\bf 1.i -$ Can you give a simple, physical interpretation to what is going on?"
   ]
  },
  {
   "cell_type": "code",
   "execution_count": null,
   "metadata": {},
   "outputs": [],
   "source": []
  },
  {
   "cell_type": "markdown",
   "metadata": {},
   "source": [
    "## Numerical analysis tools"
   ]
  },
  {
   "cell_type": "markdown",
   "metadata": {},
   "source": [
    "Here are some instruction lines that you might find useful to perform the analysis. \n",
    "There might be multiple way to get to the same results, choose the one that you think works best. \n",
    "\n",
    "\n",
    "You will import the module $\\bf happi$ which was developed specifically for SMILEI. \n",
    "Below you will find the minimum instructions required, but it might be good to take a look at :\n",
    "https://smileipic.github.io/Smilei/post-processing.html\n",
    "\n",
    "You can use typical Python command lines for more detailed analysis (in particular for the fit). \n",
    "Below you find the most commonly used module, but feel free to import the one that you prefer (even though you might need to install them!).\n",
    "\n",
    "\n",
    "\n"
   ]
  },
  {
   "cell_type": "code",
   "execution_count": null,
   "metadata": {},
   "outputs": [],
   "source": [
    "# These are the modules that should suffice for your Python analysis\n",
    "import numpy as np \n",
    "import math as m\n",
    "import matplotlib as mpl\n",
    "import matplotlib.pyplot as plt\n",
    "from scipy.optimize import curve_fit\n",
    "\n",
    "# This is required to read easily SMILEI data and make interactive plot \n",
    "%matplotlib notebook\n",
    "import happi"
   ]
  },
  {
   "cell_type": "code",
   "execution_count": null,
   "metadata": {},
   "outputs": [],
   "source": [
    "# Load the diagnostic in the folder of one simulation\n",
    "s = happi.Open(\"PATH_TO_THE_FOLDER/Project1\")"
   ]
  },
  {
   "cell_type": "code",
   "execution_count": null,
   "metadata": {},
   "outputs": [],
   "source": [
    "Diag0 = s.Field(0, \"Ex\")       # Open Ex in the first Field diag\n",
    "Diag1 = s.Field(0, \"Ey\")       # Open Ey in the first Field diag\n",
    "Uex   = s.Scalar(\"Uelm_Ex\",data_log=True) # Open the energy in the Ex field at all times, in log scale\n",
    "\n",
    "Diag0.plot(timestep=0,figure=1) #Plot the initial timestep Ex(x)\n",
    "# Remember to always put the figure number and update it for each figure "
   ]
  },
  {
   "cell_type": "code",
   "execution_count": null,
   "metadata": {},
   "outputs": [],
   "source": [
    "Ex = np.array(Diag0.getData())  # Get the data at all timesteps as a numpy matrix/array\n",
    "print(np.shape(Ex))             # print the shape of the matrix/array\n",
    "\n",
    "x  = Diag0.getAxis(\"x\")         # Get the array with the x-axis in normalized unit\n",
    "t  = Diag0.getTimes()           # Get the array with the time\n",
    "ts = Diag0.getTimesteps()       # Get the array with the timesteps"
   ]
  },
  {
   "cell_type": "code",
   "execution_count": null,
   "metadata": {
    "scrolled": true
   },
   "outputs": [],
   "source": [
    "Diag0.streak(cmap=\"RdBu\",figure=2) # Make a 2D map of 1D data with all available timesteps Ex(x,t)"
   ]
  },
  {
   "cell_type": "code",
   "execution_count": null,
   "metadata": {},
   "outputs": [],
   "source": [
    "Diag0.slide(figure=3) # Provide an interactive slider to change the time of the data showed in both 2D and 1D"
   ]
  },
  {
   "cell_type": "code",
   "execution_count": null,
   "metadata": {
    "scrolled": false
   },
   "outputs": [],
   "source": [
    "happi.multiPlot(Diag0,Diag1,timesteps=0,figure=4) # Plot in the same figure the 2 diagnostics"
   ]
  },
  {
   "cell_type": "code",
   "execution_count": null,
   "metadata": {},
   "outputs": [],
   "source": [
    "#this is done in Python without the use of the happi module\n",
    "\n",
    "def linear_fit(x, a, b): # Define the function to be used for the fit\n",
    "    return a + b*x \n",
    "\n",
    "x_fit = xdata[N_in:N_end] # Select a part of the xdata array, from N_in to N_end\n",
    "y_fit = ydata[N_in:N_end]\n",
    "\n",
    "popt, pcov = curve_fit(linear_fit, x_fit, y_fit) # makes the fit, popt is an array with the best parameters\n",
    "\n",
    "\n",
    "plt.plot( xdata , ydata)    # plot the data\n",
    "plt.plot( x_fit , linear_fit(x_fit,*popt)) # plot the linear fit assuming the best parameters \n",
    "plt.show()\n",
    "\n",
    "print(popt) # print the best parameters\n",
    "\n"
   ]
  },
  {
   "cell_type": "code",
   "execution_count": null,
   "metadata": {},
   "outputs": [],
   "source": []
  },
  {
   "cell_type": "code",
   "execution_count": null,
   "metadata": {},
   "outputs": [],
   "source": []
  }
 ],
 "metadata": {
  "kernelspec": {
   "display_name": "Python 3",
   "language": "python",
   "name": "python3"
  },
  "language_info": {
   "codemirror_mode": {
    "name": "ipython",
    "version": 3
   },
   "file_extension": ".py",
   "mimetype": "text/x-python",
   "name": "python",
   "nbconvert_exporter": "python",
   "pygments_lexer": "ipython3",
   "version": "3.8.6"
  }
 },
 "nbformat": 4,
 "nbformat_minor": 2
}
