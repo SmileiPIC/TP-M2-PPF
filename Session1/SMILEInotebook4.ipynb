{
 "cells": [
  {
   "cell_type": "markdown",
   "metadata": {},
   "source": [
    "# A practical introduction to the kinetic simulation of plasmas"
   ]
  },
  {
   "cell_type": "markdown",
   "metadata": {},
   "source": [
    "## Project 4"
   ]
  },
  {
   "cell_type": "markdown",
   "metadata": {},
   "source": [
    "### Simulation set-up"
   ]
  },
  {
   "cell_type": "markdown",
   "metadata": {},
   "source": [
    "In this last project, the simulation is initialized with a background plasma with density $n_0$ (immobile ions), mean-velocity ${\\bf v}_0 \\sim 0$\n",
    "and temperature $T_0=4 \\times 10^{-4} m_e c^2$. In addition to this background plasma, we have initialized an electron beam with density $n_b = 0.05 n_0 \\ll n_0$,\n",
    "average velocity along the $x$-direction $v_b = 0.12~c$ and temperature $T_b = T_0$.\n"
   ]
  },
  {
   "cell_type": "markdown",
   "metadata": {},
   "source": [
    "$\\bf 4.a -$ Have a look at the input file $\\texttt{project4.py}$. How is the background (electron) plasma mean-velocity defined?\n",
    "Why did we not simply take ${\\bf v}_0=0$?\n"
   ]
  },
  {
   "cell_type": "markdown",
   "metadata": {},
   "source": [
    "$\\bf 4.b -$ Now look at the species blocks $\\texttt{Species()}$.\n",
    "How many species blocks do you find?\n",
    "What happened to the ions? What do you think will happen?"
   ]
  },
  {
   "cell_type": "markdown",
   "metadata": {},
   "source": [
    "### First run"
   ]
  },
  {
   "cell_type": "markdown",
   "metadata": {},
   "source": [
    "$\\bf 4.c -$ Run this new simulation. Look first at the $E_x$ and $\\rho_{\\rm plasma}$ and $\\rho_{\\rm beam}$ at time $t=0$.\n",
    "Is it what you expect after having answered to question 4.b?\n",
    "Any clue about what happened?\n"
   ]
  },
  {
   "cell_type": "markdown",
   "metadata": {},
   "source": [
    "$\\bf 4.d -$ Now, look at the initial (time $t=0$) $v_x$-distribution.\n",
    "Do you see where the $\\it bump-on-tail$ instability name comes from?\n"
   ]
  },
  {
   "cell_type": "markdown",
   "metadata": {},
   "source": [
    "$\\bf 4.e -$ Look at the time evolution of the various quantities. What's happening?\n",
    "In particular, extract from your simulation the growth rate of the instability and phase velocity of any excited wave.\n",
    "What does this phase velocity corresponds to? \n"
   ]
  },
  {
   "cell_type": "markdown",
   "metadata": {},
   "source": [
    "$\\bf 4.f -$ Did we seed any particular mode to start this instability? From what fluctuations does the instability start?"
   ]
  },
  {
   "cell_type": "markdown",
   "metadata": {},
   "source": [
    "### Physical interpretation"
   ]
  },
  {
   "cell_type": "markdown",
   "metadata": {},
   "source": [
    "$\\bf 4.g -$ Can you give a simple interpretation for the linear stage of the instability?\n"
   ]
  },
  {
   "cell_type": "markdown",
   "metadata": {},
   "source": [
    "$\\bf 4.h -$ What about the non linear stage? What is, according to you, responsible for the saturation of the instability?\n",
    "\n"
   ]
  },
  {
   "cell_type": "markdown",
   "metadata": {},
   "source": [
    "$\\bf 4.i -$ Increase the beam velocity, e.g. taking $v_b = 0.8c$. What do you observe? Can you explain why?"
   ]
  },
  {
   "cell_type": "code",
   "execution_count": null,
   "metadata": {},
   "outputs": [],
   "source": []
  },
  {
   "cell_type": "code",
   "execution_count": null,
   "metadata": {},
   "outputs": [],
   "source": []
  }
 ],
 "metadata": {
  "kernelspec": {
   "display_name": "Python 3",
   "language": "python",
   "name": "python3"
  },
  "language_info": {
   "codemirror_mode": {
    "name": "ipython",
    "version": 3
   },
   "file_extension": ".py",
   "mimetype": "text/x-python",
   "name": "python",
   "nbconvert_exporter": "python",
   "pygments_lexer": "ipython3",
   "version": "3.8.6"
  }
 },
 "nbformat": 4,
 "nbformat_minor": 2
}
