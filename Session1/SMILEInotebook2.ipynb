{
 "cells": [
  {
   "cell_type": "markdown",
   "metadata": {},
   "source": [
    "# A practical introduction to the kinetic simulation of plasmas"
   ]
  },
  {
   "cell_type": "markdown",
   "metadata": {},
   "source": [
    "## Project 2"
   ]
  },
  {
   "cell_type": "markdown",
   "metadata": {},
   "source": [
    "### Simulation set-up"
   ]
  },
  {
   "cell_type": "markdown",
   "metadata": {},
   "source": [
    "We now consider a set-up quite similar to the one previously investigated: a plasma with density $n_0$, composed of immobile ions and two counter-streaming electron flows, each with density $n_0/2$ and opposite velocities $\\pm {\\bf v_0}$. However, now the flow velocity is oriented along the ${\\bf \\hat{z}}$-direction, not resolved in this 1D simulation. In addition, \n",
    "a small perturbation in the $B_y$ field is seeded at the beginning of the simulation (time $t=0$)."
   ]
  },
  {
   "cell_type": "markdown",
   "metadata": {},
   "source": [
    "### First run"
   ]
  },
  {
   "cell_type": "markdown",
   "metadata": {},
   "source": [
    "Start by running SMILEI using the $\\texttt{project2.py}$ input file. "
   ]
  },
  {
   "cell_type": "markdown",
   "metadata": {},
   "source": [
    "$\\bf 2.a -$ Plot the $E_x$, $B_y$ fields as well as the electron species densities $\\rho_{e,1}$ and $\\rho_{e,2}$.\n",
    "Is it consistent with what you expect?\n",
    "In contrast with $\\bf project\\, 1$, how is the system perturbed?\n"
   ]
  },
  {
   "cell_type": "markdown",
   "metadata": {},
   "source": [
    "$\\bf 2.b -$ Check the energy in the different electromagnetic fields (given as a function of time).\n",
    "In which fields is the energy stored? For these fields, how is the energy evolving with time?\n",
    "\n",
    "What does this mean: is this set-up stable or does it lead to an instability?\n",
    "Where does the energy in the electromagnetic field comes from?"
   ]
  },
  {
   "cell_type": "markdown",
   "metadata": {},
   "source": [
    "$\\bf 2.c -$ Knowing which energy is growing, what is the nature of the physics at play?\n",
    "Checking the $\\it supplemental\\, material$, can you give a name to what you are observing?"
   ]
  },
  {
   "cell_type": "markdown",
   "metadata": {},
   "source": [
    "$\\bf 2.d -$ Read the diagnostics on the electric field $E_x$ and the $x-v_x$ phase-space.\n",
    "Have a look at what's going on in your simulation as a function of time.\n",
    "Can you identify the linear and non-linear stage of the instability?\n"
   ]
  },
  {
   "cell_type": "markdown",
   "metadata": {},
   "source": [
    "$\\bf 2.e -$ In the linear stage of the instability, measure the growth rate associated to the $E_x$, $E_z$ and $B_y$ fields.\n",
    "\n",
    "How do the growth rate compare with each other? What does this mean in terms of the linear phase of the instability, and why is $E_x$ behaving differently?\n",
    "What is the growth rate of the instability and how does it compare to the theory?\n"
   ]
  },
  {
   "cell_type": "markdown",
   "metadata": {},
   "source": [
    "### Additional runs varying the seeded wavenumber"
   ]
  },
  {
   "cell_type": "markdown",
   "metadata": {},
   "source": [
    "We will now rerun the same simulation set-up but changing the seeded wave number $k$ (variable $\\texttt{k}$ in the input file).\n",
    "Run successively the simulation with $\\texttt{k=1}$, $\\texttt{k=0.5}$, $\\texttt{k=0.2}$ and $\\texttt{k=0.1}$.\n",
    "For all cases, extract the growth rate of the instability and compare it to the theory."
   ]
  },
  {
   "cell_type": "markdown",
   "metadata": {},
   "source": [
    "### Physical interpretation and saturation mechanisms"
   ]
  },
  {
   "cell_type": "markdown",
   "metadata": {},
   "source": [
    "Let us move backward a bit, and rerun (if needed, or simply re-load) the first simulation with $\\texttt{k=2}$ (which means $k=2\\omega_{pe}/c$). \n"
   ]
  },
  {
   "cell_type": "markdown",
   "metadata": {},
   "source": [
    "$\\bf 2.f -$ Plot the current densities $J_z$ for both electron species, together with the $B_y$ magnetic field component.\n",
    "Also read the $x-v_z$ phase-space diagnostic.\n",
    "Let them evolve with time but keep in the linear phase. \n",
    "Can you give a simple explanation of the physical process behind this instability?\n"
   ]
  },
  {
   "cell_type": "markdown",
   "metadata": {},
   "source": [
    "$\\bf 2.g -$ Now, go at the saturation stage of the instability. Can you figure out why the instability saturates?\n"
   ]
  },
  {
   "cell_type": "markdown",
   "metadata": {},
   "source": [
    "Let us finally investigate the case in which the seeded wavelength is larger by taking a smaller wavenumber $\\texttt{k=0.31}$ (which means $k=0.31\\omega_{pe}/c$).\n",
    "\n",
    "$\\bf 2.h -$ Check that the linear phase behaves similarly to the previous case.\n"
   ]
  },
  {
   "cell_type": "markdown",
   "metadata": {},
   "source": [
    "$\\bf 2.i -$ What about the saturation phase? Can you figure out what, in that case (longer wavelength), is responsible for the saturation of the instability? \n"
   ]
  },
  {
   "cell_type": "code",
   "execution_count": null,
   "metadata": {},
   "outputs": [],
   "source": []
  },
  {
   "cell_type": "code",
   "execution_count": null,
   "metadata": {},
   "outputs": [],
   "source": []
  },
  {
   "cell_type": "code",
   "execution_count": null,
   "metadata": {},
   "outputs": [],
   "source": []
  }
 ],
 "metadata": {
  "kernelspec": {
   "display_name": "Python 3",
   "language": "python",
   "name": "python3"
  },
  "language_info": {
   "codemirror_mode": {
    "name": "ipython",
    "version": 3
   },
   "file_extension": ".py",
   "mimetype": "text/x-python",
   "name": "python",
   "nbconvert_exporter": "python",
   "pygments_lexer": "ipython3",
   "version": "3.8.6"
  }
 },
 "nbformat": 4,
 "nbformat_minor": 2
}
